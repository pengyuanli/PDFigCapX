{
 "cells": [
  {
   "cell_type": "code",
   "execution_count": 1,
   "metadata": {},
   "outputs": [],
   "source": [
    "import os\n",
    "import sys\n",
    "module_path = os.path.abspath(os.path.join('..'))\n",
    "if module_path not in sys.path:\n",
    "    sys.path.append(module_path)\n",
    "\n",
    "from src.pdfigcapx.utils import extract_page_text_content, sort_by_most_common_value_desc\n",
    "from selenium import webdriver\n",
    "from pathlib import Path\n",
    "\n",
    "%matplotlib inline\n",
    "import matplotlib.pyplot as plt\n",
    "import matplotlib.image as mpimg\n",
    "import matplotlib.patches as patches\n",
    "from PIL import Image\n",
    "\n",
    "from src.pdfigcapx.html_content import HtmlPage"
   ]
  },
  {
   "cell_type": "code",
   "execution_count": 2,
   "metadata": {},
   "outputs": [],
   "source": [
    "chrome_options = webdriver.ChromeOptions()\n",
    "chrome_options.add_argument('--no-sandbox')\n",
    "chrome_options.add_argument('--headless')\n",
    "driver = webdriver.Chrome('chromedriver', options=chrome_options)"
   ]
  },
  {
   "cell_type": "code",
   "execution_count": 3,
   "metadata": {},
   "outputs": [],
   "source": [
    "html_sample_1 = str(Path('../tests/data/htmls/page1.html').resolve())\n",
    "html_sample_2 = str(Path('../tests/data/htmls/page2.html').resolve())\n",
    "png_sample_1 = str(Path('../tests/data/htmls/page1.png').resolve())\n",
    "\n",
    "page1 = extract_page_text_content(driver, html_sample_1)\n",
    "page2 = extract_page_text_content(driver, html_sample_2)"
   ]
  },
  {
   "cell_type": "code",
   "execution_count": 44,
   "metadata": {},
   "outputs": [],
   "source": [
    "MIN_LENGTH = 30\n",
    "\n",
    "def draw_page_with_annotations(page: HtmlPage, png_path: str):\n",
    "  page_image = Image.open(png_path)\n",
    "  page_image = page_image.resize((page.width, page.height), Image.ANTIALIAS)\n",
    "\n",
    "  fig, ax = plt.subplots(dpi=150)\n",
    "\n",
    "  x_lefts = []\n",
    "  x_rights = []\n",
    "  row_widths = []\n",
    "  row_heights = []\n",
    "  y_tops = []\n",
    "\n",
    "  for text_box in page.text_boxes:\n",
    "    if len(text_box.text) > MIN_LENGTH:\n",
    "      x_lefts.append(text_box.x_top_left)\n",
    "      row_heights.append(text_box.height)\n",
    "      row_widths.append(text_box.width)\n",
    "      y_tops.append(text_box.y_top_left)\n",
    "      x_rights.append(text_box.x_top_right)\n",
    "      edgecolor = 'b'\n",
    "    else: \n",
    "      edgecolor = 'r'\n",
    "    rect = patches.Rectangle((text_box.x_top_left, text_box.y_top_left), text_box.width, text_box.height, linewidth=1, edgecolor=edgecolor, facecolor='none')\n",
    "    ax.add_patch(rect)\n",
    "  \n",
    "  text_y_range = (max(0, min(y_tops)), min(page.height, max(y_tops)))\n",
    "  common_x_lefts = sort_by_most_common_value_desc(x_lefts)\n",
    "  common_row_widths = sort_by_most_common_value_desc(row_widths)\n",
    "  common_row_heights = sort_by_most_common_value_desc(row_heights)\n",
    "  \n",
    "  ax.plot([2, 2], [text_y_range[0], text_y_range[1]], color=\"y\")\n",
    "  ax.plot([common_x_lefts[0].value, common_x_lefts[0].value], [0, page.height], color=\"g\")\n",
    "  ax.imshow(page_image)\n",
    "\n",
    "  return common_x_lefts, common_row_widths, common_row_heights, x_lefts, x_rights, text_y_range"
   ]
  },
  {
   "cell_type": "code",
   "execution_count": 45,
   "metadata": {},
   "outputs": [
    {
     "data": {
      "image/png": "[encoded data removed]",
      "text/plain": [
       "<Figure size 900x600 with 1 Axes>"
      ]
     },
     "metadata": {
      "needs_background": "light"
     },
     "output_type": "display_data"
    }
   ],
   "source": [
    "common_x_lefts, common_row_widths, common_row_heights, x_lefts, x_rights, text_y_range = draw_page_with_annotations(page1, png_sample_1)"
   ]
  },
  {
   "cell_type": "code",
   "execution_count": 25,
   "metadata": {},
   "outputs": [
    {
     "data": {
      "text/plain": [
       "[CountTuple(count=31, value=167),\n",
       " CountTuple(count=13, value=36),\n",
       " CountTuple(count=5, value=35),\n",
       " CountTuple(count=4, value=166),\n",
       " CountTuple(count=1, value=421),\n",
       " CountTuple(count=1, value=188),\n",
       " CountTuple(count=1, value=180)]"
      ]
     },
     "execution_count": 25,
     "metadata": {},
     "output_type": "execute_result"
    }
   ],
   "source": [
    "common_x_lefts"
   ]
  },
  {
   "cell_type": "code",
   "execution_count": 26,
   "metadata": {},
   "outputs": [
    {
     "data": {
      "text/plain": [
       "[CountTuple(count=3, value=351),\n",
       " CountTuple(count=2, value=365),\n",
       " CountTuple(count=2, value=356),\n",
       " CountTuple(count=2, value=349),\n",
       " CountTuple(count=2, value=348),\n",
       " CountTuple(count=2, value=344),\n",
       " CountTuple(count=2, value=322),\n",
       " CountTuple(count=2, value=98),\n",
       " CountTuple(count=2, value=96),\n",
       " CountTuple(count=2, value=95),\n",
       " CountTuple(count=2, value=93),\n",
       " CountTuple(count=1, value=439),\n",
       " CountTuple(count=1, value=428),\n",
       " CountTuple(count=1, value=363),\n",
       " CountTuple(count=1, value=361),\n",
       " CountTuple(count=1, value=360),\n",
       " CountTuple(count=1, value=359),\n",
       " CountTuple(count=1, value=358),\n",
       " CountTuple(count=1, value=355),\n",
       " CountTuple(count=1, value=347),\n",
       " CountTuple(count=1, value=345),\n",
       " CountTuple(count=1, value=342),\n",
       " CountTuple(count=1, value=341),\n",
       " CountTuple(count=1, value=338),\n",
       " CountTuple(count=1, value=337),\n",
       " CountTuple(count=1, value=333),\n",
       " CountTuple(count=1, value=332),\n",
       " CountTuple(count=1, value=331),\n",
       " CountTuple(count=1, value=325),\n",
       " CountTuple(count=1, value=316),\n",
       " CountTuple(count=1, value=287),\n",
       " CountTuple(count=1, value=255),\n",
       " CountTuple(count=1, value=225),\n",
       " CountTuple(count=1, value=214),\n",
       " CountTuple(count=1, value=125),\n",
       " CountTuple(count=1, value=113),\n",
       " CountTuple(count=1, value=106),\n",
       " CountTuple(count=1, value=105),\n",
       " CountTuple(count=1, value=102),\n",
       " CountTuple(count=1, value=97),\n",
       " CountTuple(count=1, value=90),\n",
       " CountTuple(count=1, value=89),\n",
       " CountTuple(count=1, value=86),\n",
       " CountTuple(count=1, value=83)]"
      ]
     },
     "execution_count": 26,
     "metadata": {},
     "output_type": "execute_result"
    }
   ],
   "source": [
    "common_row_widths"
   ]
  },
  {
   "cell_type": "markdown",
   "metadata": {},
   "source": [
    "Take all the tuple of x_left points and counts, and merge them if the distance between them if smaller than BOX_DISTANCE"
   ]
  },
  {
   "cell_type": "code",
   "execution_count": 27,
   "metadata": {},
   "outputs": [],
   "source": [
    "from src.pdfigcapx.html_content import CountTuple\n",
    "\n",
    "BOX_DISTANCE = 10\n",
    "i = 0\n",
    "points_left = common_x_lefts.copy()\n",
    "while i < len(points_left):\n",
    "    j = i + 1\n",
    "    while j < len(points_left):\n",
    "        if abs(points_left[i].value - points_left[j].value) <= BOX_DISTANCE:\n",
    "            points_left[i] = CountTuple(value=points_left[i].value, count=points_left[i].count + points_left[j].count)\n",
    "            del points_left[j]\n",
    "        else:\n",
    "            j = j + 1\n",
    "    i = i + 1\n",
    "points_left = sorted(points_left, key=lambda x: x.count, reverse=True)"
   ]
  },
  {
   "cell_type": "code",
   "execution_count": 28,
   "metadata": {},
   "outputs": [
    {
     "data": {
      "text/plain": [
       "[CountTuple(count=35, value=167),\n",
       " CountTuple(count=18, value=36),\n",
       " CountTuple(count=2, value=188),\n",
       " CountTuple(count=1, value=421)]"
      ]
     },
     "execution_count": 28,
     "metadata": {},
     "output_type": "execute_result"
    }
   ],
   "source": [
    "points_left"
   ]
  },
  {
   "cell_type": "markdown",
   "metadata": {},
   "source": [
    "Calculate columns length"
   ]
  },
  {
   "cell_type": "code",
   "execution_count": 33,
   "metadata": {},
   "outputs": [],
   "source": [
    "first_x = points_left[0]\n",
    "row_width = common_row_widths[0].value\n",
    "\n",
    "if float(first_x.count) / len(points_left) > 0.75 or float(row_width) / page1.width > 0.5:\n",
    "    number_columns = 1\n",
    "    cols_starting_x = [first_x.value]\n",
    "else:\n",
    "    number_columns = 2\n",
    "\n",
    "    for i in range(1, len(points_left)):\n",
    "        if abs(points_left[i].value - first_x.value) > row_width:\n",
    "            cols_starting_x = [min(points_left[i].value, first_x.value),\n",
    "                        max(points_left[i].value, first_x.value)]\n",
    "            break"
   ]
  },
  {
   "cell_type": "code",
   "execution_count": 34,
   "metadata": {},
   "outputs": [
    {
     "data": {
      "text/plain": [
       "(1, [167])"
      ]
     },
     "execution_count": 34,
     "metadata": {},
     "output_type": "execute_result"
    }
   ],
   "source": [
    "number_columns, cols_starting_x"
   ]
  },
  {
   "cell_type": "code",
   "execution_count": 100,
   "metadata": {},
   "outputs": [
    {
     "name": "stdout",
     "output_type": "stream",
     "text": [
      "option 1\n"
     ]
    }
   ],
   "source": [
    "page = page1\n",
    "x_bar_left  = min(x_lefts)\n",
    "x_bar_right = max(x_rights)\n",
    "row_height = common_row_heights[0].value\n",
    "\n",
    "left_bbox = None\n",
    "right_bbox = None\n",
    "top_bbox = None\n",
    "down_bbox = None\n",
    "\n",
    "# calculate the PDF layout\n",
    "# why 20?\n",
    "if x_bar_left > 0 and x_bar_left < 20 * row_height:\n",
    "    left_bbox = [0, 0, x_bar_left, page.height]    \n",
    "    right_bbox = [x_bar_right, 0, page.width, page.height]\n",
    "\n",
    "    # what is 15?\n",
    "    if text_y_range[0] < 15 * row_height and text_y_range[1] > 15 * row_height:\n",
    "        top_bbox = [0, 0, page.width, text_y_range[0]]\n",
    "        down_bbox = [0, text_y_range[1], page.width, page.height]\n",
    "    else:\n",
    "        top_bbox = [0, 0, page.width, row_height]\n",
    "        down_bbox = [0, page.height - row_height, page.width, row_height]\n",
    "else:\n",
    "    left_bbox= [0, 0, row_height, page.height]\n",
    "    right_bbox = [page.width - row_height,\n",
    "                          0, row_height, page.height]\n",
    "    top_bbox = [0, 0, page.width, row_height]\n",
    "    down_bbox = [0, page.height -\n",
    "                          row_height, page.width, row_height]"
   ]
  },
  {
   "cell_type": "code",
   "execution_count": 96,
   "metadata": {},
   "outputs": [
    {
     "data": {
      "text/plain": [
       "([0, 0, 35, 841], [532, 0, 595, 841], [0, 0, 595, 116], [0, 116, 595, 815])"
      ]
     },
     "execution_count": 96,
     "metadata": {},
     "output_type": "execute_result"
    }
   ],
   "source": [
    "left_bbox, right_bbox, top_bbox, down_bbox"
   ]
  },
  {
   "cell_type": "code",
   "execution_count": 104,
   "metadata": {},
   "outputs": [
    {
     "data": {
      "text/plain": [
       "<matplotlib.image.AxesImage at 0x7fe6d8bbb650>"
      ]
     },
     "execution_count": 104,
     "metadata": {},
     "output_type": "execute_result"
    },
    {
     "data": {
      "image/png": "[encoded data removed]",
      "text/plain": [
       "<Figure size 900x600 with 1 Axes>"
      ]
     },
     "metadata": {
      "needs_background": "light"
     },
     "output_type": "display_data"
    }
   ],
   "source": [
    "page_image = Image.open(png_sample_1)\n",
    "page_image = page_image.resize((page.width, page.height), Image.ANTIALIAS)\n",
    "\n",
    "fig, ax = plt.subplots(dpi=150)\n",
    "\n",
    "left = patches.Rectangle((left_bbox[0], left_bbox[1]), \n",
    "                        left_bbox[2]-left_bbox[0],\n",
    "                        left_bbox[3]-left_bbox[1], \n",
    "                        linewidth=1, edgecolor='b', facecolor='b', alpha=0.5)                        \n",
    "ax.add_patch(left)\n",
    "\n",
    "right = patches.Rectangle((right_bbox[0], right_bbox[1]), \n",
    "                        right_bbox[2]-right_bbox[0],\n",
    "                        right_bbox[3]-right_bbox[1], \n",
    "                        linewidth=1, edgecolor='r', facecolor='r', alpha=0.5)\n",
    "ax.add_patch(right)\n",
    "\n",
    "top = patches.Rectangle((top_bbox[0], top_bbox[1]), \n",
    "                        top_bbox[2]+top_bbox[0],\n",
    "                        top_bbox[3]+top_bbox[1], \n",
    "                        linewidth=1, edgecolor='g', facecolor='g', alpha=0.5)\n",
    "ax.add_patch(top)\n",
    "\n",
    "down = patches.Rectangle((down_bbox[0], down_bbox[1]), \n",
    "                        down_bbox[2]-down_bbox[0],\n",
    "                        down_bbox[3]-down_bbox[1], \n",
    "                        linewidth=1, edgecolor='purple', facecolor='purple', alpha=0.5)\n",
    "ax.add_patch(down)\n",
    "\n",
    "ax.imshow(page_image)"
   ]
  },
  {
   "cell_type": "code",
   "execution_count": 85,
   "metadata": {},
   "outputs": [
    {
     "name": "stdout",
     "output_type": "stream",
     "text": [
      "575\n"
     ]
    }
   ],
   "source": [
    "print(page1.width - 2 * row_height)"
   ]
  },
  {
   "cell_type": "code",
   "execution_count": 86,
   "metadata": {},
   "outputs": [
    {
     "data": {
      "text/plain": [
       "10"
      ]
     },
     "execution_count": 86,
     "metadata": {},
     "output_type": "execute_result"
    }
   ],
   "source": [
    "row_height"
   ]
  },
  {
   "cell_type": "code",
   "execution_count": 88,
   "metadata": {},
   "outputs": [
    {
     "data": {
      "text/plain": [
       "532"
      ]
     },
     "execution_count": 88,
     "metadata": {},
     "output_type": "execute_result"
    }
   ],
   "source": [
    "x_bar_right"
   ]
  },
  {
   "cell_type": "code",
   "execution_count": null,
   "metadata": {},
   "outputs": [],
   "source": []
  }
 ],
 "metadata": {
  "interpreter": {
   "hash": "d4d1e4263499bec80672ea0156c357c1ee493ec2b1c70f0acce89fc37c4a6abe"
  },
  "kernelspec": {
   "display_name": "Python 3.9.5 64-bit ('base': conda)",
   "language": "python",
   "name": "python3"
  },
  "language_info": {
   "codemirror_mode": {
    "name": "ipython",
    "version": 3
   },
   "file_extension": ".py",
   "mimetype": "text/x-python",
   "name": "python",
   "nbconvert_exporter": "python",
   "pygments_lexer": "ipython3",
   "version": "3.7.11"
  },
  "orig_nbformat": 4
 },
 "nbformat": 4,
 "nbformat_minor": 2
}
