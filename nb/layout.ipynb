{
 "cells": [
  {
   "cell_type": "code",
   "execution_count": 2,
   "metadata": {},
   "outputs": [],
   "source": [
    "import os\n",
    "import sys\n",
    "module_path = os.path.abspath(os.path.join('..'))\n",
    "if module_path not in sys.path:\n",
    "    sys.path.append(module_path)\n",
    "\n",
    "from src.pdfigcapx.utils import extract_page_text_content\n",
    "from selenium import webdriver\n",
    "from pathlib import Path\n",
    "\n",
    "html_sample_1 = str(Path('../tests/data/htmls/page1.html').resolve())\n",
    "html_sample_2 = str(Path('../tests/data/htmls/page2.html').resolve())\n",
    "png_sample_1 = str(Path('../tests/data/htmls/page1.png').resolve())"
   ]
  },
  {
   "cell_type": "code",
   "execution_count": 3,
   "metadata": {},
   "outputs": [],
   "source": [
    "chrome_options = webdriver.ChromeOptions()\n",
    "chrome_options.add_argument('--no-sandbox')\n",
    "chrome_options.add_argument('--headless')\n",
    "driver = webdriver.Chrome('chromedriver', options=chrome_options)"
   ]
  },
  {
   "cell_type": "code",
   "execution_count": 4,
   "metadata": {},
   "outputs": [],
   "source": [
    "page1 = extract_page_text_content(driver, html_sample_1)\n",
    "page2 = extract_page_text_content(driver, html_sample_2)"
   ]
  },
  {
   "cell_type": "code",
   "execution_count": 5,
   "metadata": {},
   "outputs": [],
   "source": [
    "pages = [page1, page2]\n",
    "MIN_LENGTH = 30\n",
    "\n",
    "x_top_left_points = []\n",
    "for page in pages:\n",
    "  for text_box in page.text_boxes:\n",
    "    if len(text_box.text) > MIN_LENGTH:\n",
    "      x_top_left_points.append(text_box.x_top_left)\n",
    "\n",
    "x_top_left_points = sorted([(x_pos, x_top_left_points.count(x_pos))\n",
    "                                  for x_pos in set(x_top_left_points)],\n",
    "                                 key=lambda x: x[1],\n",
    "                                 reverse=True)"
   ]
  },
  {
   "cell_type": "code",
   "execution_count": 6,
   "metadata": {},
   "outputs": [
    {
     "data": {
      "text/plain": [
       "[(167, 71), (36, 14), (166, 14), (35, 5), (188, 4), (421, 1), (180, 1)]"
      ]
     },
     "execution_count": 6,
     "metadata": {},
     "output_type": "execute_result"
    }
   ],
   "source": [
    "x_top_left_points"
   ]
  },
  {
   "cell_type": "code",
   "execution_count": 18,
   "metadata": {},
   "outputs": [],
   "source": [
    "%matplotlib inline\n",
    "import matplotlib.pyplot as plt\n",
    "import matplotlib.image as mpimg\n",
    "import matplotlib.patches as patches\n",
    "from PIL import Image"
   ]
  },
  {
   "cell_type": "code",
   "execution_count": 31,
   "metadata": {},
   "outputs": [
    {
     "data": {
      "text/plain": [
       "<matplotlib.image.AxesImage at 0x7f4e46af5610>"
      ]
     },
     "execution_count": 31,
     "metadata": {},
     "output_type": "execute_result"
    },
    {
     "data": {
      "image/png": "[encoded data removed]",
      "text/plain": [
       "<Figure size 900x600 with 1 Axes>"
      ]
     },
     "metadata": {
      "needs_background": "light"
     },
     "output_type": "display_data"
    }
   ],
   "source": [
    "img = Image.open(png_sample_1)\n",
    "img = img.resize((page1.width, page1.height), Image.ANTIALIAS)\n",
    "\n",
    "fig, ax = plt.subplots(dpi=150)\n",
    "\n",
    "x_top_left_points = []\n",
    "row_widths = []\n",
    "row_heights = []\n",
    "y_tops = []\n",
    "\n",
    "for text_box in page1.text_boxes:\n",
    "  \n",
    "  if len(text_box.text) > MIN_LENGTH:\n",
    "    x_top_left_points.append(text_box.x_top_left)\n",
    "    row_heights.append(text_box.height)\n",
    "    row_widths.append(text_box.width)\n",
    "    y_tops.append(text_box.y_top_left)\n",
    "    edgecolor = 'b'\n",
    "  else: \n",
    "    edgecolor = 'r'\n",
    "  rect = patches.Rectangle((text_box.x_top_left, text_box.y_top_left), text_box.width, text_box.height, linewidth=1, edgecolor=edgecolor, facecolor='none')\n",
    "  ax.add_patch(rect)\n",
    "\n",
    "x_top_left_points = sorted([(x_pos, x_top_left_points.count(x_pos))\n",
    "                                  for x_pos in set(x_top_left_points)],\n",
    "                                 key=lambda x: x[1],\n",
    "                                 reverse=True)\n",
    "row_widths = sorted([(i, row_widths.count(i))\n",
    "                             for i in set(row_widths)],\n",
    "                            key=lambda x: x[1],\n",
    "                            reverse=True)\n",
    "row_heights = sorted([(i, row_heights.count(i))\n",
    "                      for i in set(row_heights)],\n",
    "                      key=lambda x: x[1],\n",
    "                      reverse=True)     \n",
    "\n",
    "layout = (max(0, min(y_tops)), min(page1.height, max(y_tops)))\n",
    "ax.plot([x_top_left_points[0][0], x_top_left_points[0][0]], [0, page1.height], color=\"g\")\n",
    "ax.imshow(img)"
   ]
  },
  {
   "cell_type": "code",
   "execution_count": 33,
   "metadata": {},
   "outputs": [
    {
     "data": {
      "text/plain": [
       "(116, 815)"
      ]
     },
     "execution_count": 33,
     "metadata": {},
     "output_type": "execute_result"
    }
   ],
   "source": [
    "layout"
   ]
  },
  {
   "cell_type": "code",
   "execution_count": null,
   "metadata": {},
   "outputs": [],
   "source": []
  }
 ],
 "metadata": {
  "interpreter": {
   "hash": "d4d1e4263499bec80672ea0156c357c1ee493ec2b1c70f0acce89fc37c4a6abe"
  },
  "kernelspec": {
   "display_name": "Python 3.9.5 64-bit ('base': conda)",
   "language": "python",
   "name": "python3"
  },
  "language_info": {
   "codemirror_mode": {
    "name": "ipython",
    "version": 3
   },
   "file_extension": ".py",
   "mimetype": "text/x-python",
   "name": "python",
   "nbconvert_exporter": "python",
   "pygments_lexer": "ipython3",
   "version": "3.9.5"
  },
  "orig_nbformat": 4
 },
 "nbformat": 4,
 "nbformat_minor": 2
}
